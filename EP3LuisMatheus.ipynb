{
 "cells": [
  {
   "cell_type": "code",
   "execution_count": null,
   "metadata": {},
   "outputs": [],
   "source": [
    "import pandas as pd\n",
    "import seaborn as sb\n",
    "import matplotlib.pyplot as plt\n",
    "low_memory=False\n",
    "%matplotlib inline\n",
    "pd.options.display.max_columns = 80\n",
    "pd.options.display.max_rows = 90\n",
    "filename = 'Dados_OPGG.xlsx'\n",
    "df = pd.read_excel(filename,encoding=\"utf-8-sig\")\n",
    "df"
   ]
  },
  {
   "cell_type": "code",
   "execution_count": null,
   "metadata": {},
   "outputs": [],
   "source": [
    "Challenger=[]\n",
    "contC=0\n",
    "pctC=0\n",
    "for ELO in df.ELO:\n",
    "    if 'Challenger' in ELO:\n",
    "        Challenger.append(True)\n",
    "    else:\n",
    "        Challenger.append(False)\n",
    "is_long = pd.Series(Challenger)\n",
    "for PCT in df[Challenger].PCTVITORIA:\n",
    "    pctC=pctC+PCT\n",
    "    contC=contC+1\n",
    "pctC=pctC/contC\n",
    "Challenger"
   ]
  },
  {
   "cell_type": "code",
   "execution_count": null,
   "metadata": {},
   "outputs": [],
   "source": [
    "Master=[]\n",
    "contM=0\n",
    "pctM=0\n",
    "for ELO in df.ELO:\n",
    "    if 'Master' in ELO:\n",
    "        Master.append(True)\n",
    "    else:\n",
    "        Master.append(False)\n",
    "is_long = pd.Series(Master)\n",
    "for PCT in df[Master].PCTVITORIA:\n",
    "    pctM=pctM+PCT\n",
    "    contM=contM+1\n",
    "pctM=pctM/contM\n",
    "Master"
   ]
  },
  {
   "cell_type": "code",
   "execution_count": null,
   "metadata": {},
   "outputs": [],
   "source": [
    "Diamond=[]\n",
    "contD=0\n",
    "pctD=0\n",
    "for ELO in df.ELO:\n",
    "    if 'Diamond' in ELO:\n",
    "        Diamond.append(True)\n",
    "    else:\n",
    "        Diamond.append(False)\n",
    "is_long = pd.Series(Diamond)\n",
    "for PCT in df[Diamond].PCTVITORIA:\n",
    "    pctD=pctD+PCT\n",
    "    contD=contD+1\n",
    "pctD=pctD/contD\n",
    "Diamond"
   ]
  },
  {
   "cell_type": "code",
   "execution_count": null,
   "metadata": {},
   "outputs": [],
   "source": [
    "Platinum=[]\n",
    "contP=0\n",
    "pctP=0\n",
    "for ELO in df.ELO:\n",
    "    if 'Platinum' in ELO:\n",
    "        Platinum.append(True)\n",
    "    else:\n",
    "        Platinum.append(False)\n",
    "is_long = pd.Series(Platinum)\n",
    "for PCT in df[Platinum].PCTVITORIA:\n",
    "    pctP=pctP+PCT\n",
    "    contP=contP+1\n",
    "pctP=pctP/contP\n",
    "Platinum"
   ]
  },
  {
   "cell_type": "code",
   "execution_count": null,
   "metadata": {},
   "outputs": [],
   "source": [
    "d = {'pct': [pctC, pctM, pctD, pctP], 'ELOS': ['Challeger', 'Mestre', 'Diamante', 'Platina'] }\n",
    "df2 = pd.DataFrame(data=d)\n",
    "df2.set_index(\"ELOS\",drop=True,inplace=True)"
   ]
  },
  {
   "cell_type": "code",
   "execution_count": null,
   "metadata": {},
   "outputs": [],
   "source": [
    "ax = df2.plot.barh(figsize=(40,20),title=\"Porcentagem de vitoria media por ELO Season 8\")\n",
    "ax.set_xlabel(\"ELOS\")\n",
    "ax.set_ylabel(\"Porcentagem\")"
   ]
  },
  {
   "cell_type": "code",
   "execution_count": null,
   "metadata": {},
   "outputs": [],
   "source": [
    "df2=df[Challenger]"
   ]
  },
  {
   "cell_type": "code",
   "execution_count": null,
   "metadata": {},
   "outputs": [],
   "source": [
    "dfc = pd.DataFrame(df2[['LP']], columns=['LP'])\n",
    "ax = dfc.plot(figsize=(40,20),title=\"Escala de LP Challengers\")\n",
    "ax.set_xlabel(\"Jogadores\")\n",
    "ax.set_ylabel(\"LP\")"
   ]
  },
  {
   "cell_type": "code",
   "execution_count": null,
   "metadata": {},
   "outputs": [],
   "source": [
    "dfc = pd.DataFrame(df2[['VITORIAS','DERROTAS']], columns=['VITORIAS','DERROTAS'])\n",
    "ax = dfc.plot.bar(figsize=(40,20),title=\"Quantidade de vitorias e derrotas Challengers LOL BR\",stacked=True)\n",
    "ax.set_xlabel(\"Jogadores\")\n",
    "ax.set_ylabel(\"Quantidade de Vitórias/Derrotas\")"
   ]
  },
  {
   "cell_type": "code",
   "execution_count": null,
   "metadata": {
    "scrolled": true
   },
   "outputs": [],
   "source": [
    "dfc = pd.DataFrame(df2[['PCTVITORIA']], columns=['PCTVITORIA'])\n",
    "ax = dfc.plot.bar(figsize=(40,20),title=\"Taxa de vitória Challanges servidor BR LOL season 8\")\n",
    "ax.set_xlabel(\"Jogadores\")\n",
    "ax.set_ylabel(\"Porcentagem\")"
   ]
  },
  {
   "cell_type": "code",
   "execution_count": null,
   "metadata": {},
   "outputs": [],
   "source": [
    "df2=df[Master]"
   ]
  },
  {
   "cell_type": "code",
   "execution_count": null,
   "metadata": {},
   "outputs": [],
   "source": [
    "dfc = pd.DataFrame(df2[['LP']], columns=['LP'])\n",
    "ax = dfc.plot(figsize=(40,20),title=\"Escala de LP Mestres\")\n",
    "ax.set_xlabel(\"Jogadores\")\n",
    "ax.set_ylabel(\"LP\")"
   ]
  },
  {
   "cell_type": "code",
   "execution_count": null,
   "metadata": {},
   "outputs": [],
   "source": [
    "dfc = pd.DataFrame(df2[['VITORIAS','DERROTAS']], columns=['VITORIAS','DERROTAS'])\n",
    "ax = dfc.plot.bar(figsize=(40,20),title=\"Quantidade de vitorias e derrotas Mestres LOL BR\",stacked=True)\n",
    "ax.set_xlabel(\"Jogadores\")\n",
    "ax.set_ylabel(\"Quantidade de Vitórias/Derrotas\")"
   ]
  },
  {
   "cell_type": "code",
   "execution_count": null,
   "metadata": {},
   "outputs": [],
   "source": [
    "dfc = pd.DataFrame(df2[['PCTVITORIA']], columns=['PCTVITORIA'])\n",
    "ax = dfc.plot.bar(figsize=(40,20),title=\"Taxa de vitória Mestres servidor BR LOL season 8\")\n",
    "ax.set_xlabel(\"Jogadores\")\n",
    "ax.set_ylabel(\"Porcentagem\")"
   ]
  },
  {
   "cell_type": "code",
   "execution_count": null,
   "metadata": {},
   "outputs": [],
   "source": [
    "df2=df[Diamond]"
   ]
  },
  {
   "cell_type": "code",
   "execution_count": null,
   "metadata": {},
   "outputs": [],
   "source": [
    "dfc = pd.DataFrame(df2[['VITORIAS','DERROTAS']], columns=['VITORIAS','DERROTAS'])\n",
    "ax = dfc.plot.bar(figsize=(40,20),title=\"Quantidade de vitorias e derrotas Diamantes LOL BR\",stacked=True)\n",
    "ax.set_xlabel(\"Jogadores\")\n",
    "ax.set_ylabel(\"Quantidade de Vitórias/Derrotas\")"
   ]
  },
  {
   "cell_type": "code",
   "execution_count": null,
   "metadata": {},
   "outputs": [],
   "source": [
    "dfc = pd.DataFrame(df2[['PCTVITORIA']], columns=['PCTVITORIA'])\n",
    "ax = dfc.plot.bar(figsize=(40,20),title=\"Taxa de vitória Diamantes servidor BR LOL season 8\")\n",
    "ax.set_xlabel(\"Jogadores\")\n",
    "ax.set_ylabel(\"Porcentagem\")"
   ]
  },
  {
   "cell_type": "code",
   "execution_count": null,
   "metadata": {},
   "outputs": [],
   "source": [
    "df2=df[Platinum]"
   ]
  },
  {
   "cell_type": "code",
   "execution_count": null,
   "metadata": {},
   "outputs": [],
   "source": [
    "dfc = pd.DataFrame(df2[['VITORIAS','DERROTAS']], columns=['VITORIAS','DERROTAS'])\n",
    "ax = dfc.plot.bar(figsize=(40,20),title=\"Quantidade de vitorias e derrotas Platinas LOL BR\",stacked=True)\n",
    "ax.set_xlabel(\"Jogadores\")\n",
    "ax.set_ylabel(\"Quantidade de Vitórias/Derrotas\")"
   ]
  },
  {
   "cell_type": "code",
   "execution_count": null,
   "metadata": {},
   "outputs": [],
   "source": [
    "dfc = pd.DataFrame(df2[['PCTVITORIA']], columns=['PCTVITORIA'])\n",
    "ax = dfc.plot.bar(figsize=(40,20),title=\"Taxa de vitória Platinas servidor BR LOL season 8\")\n",
    "ax.set_xlabel(\"Jogadores\")\n",
    "ax.set_ylabel(\"Porcentagem\")"
   ]
  }
 ],
 "metadata": {
  "kernelspec": {
   "display_name": "Python 3",
   "language": "python",
   "name": "python3"
  },
  "language_info": {
   "codemirror_mode": {
    "name": "ipython",
    "version": 3
   },
   "file_extension": ".py",
   "mimetype": "text/x-python",
   "name": "python",
   "nbconvert_exporter": "python",
   "pygments_lexer": "ipython3",
   "version": "3.7.0"
  }
 },
 "nbformat": 4,
 "nbformat_minor": 2
}
